{
 "cells": [
  {
   "cell_type": "code",
   "execution_count": 1,
   "metadata": {
    "collapsed": false
   },
   "outputs": [],
   "source": [
    "import pandas as pd\n",
    "\n",
    "from bs4 import BeautifulSoup\n",
    "\n",
    "from mechanize import Browser\n",
    "\n",
    "br=Browser()\n",
    "br.open('http://ibdb.com/shows')\n",
    "br.select_form(nr=0)\n",
    "br['ProdTypeMusical'] = ['true']\n",
    "\n",
    "response = br.submit().read()\n",
    "\n",
    "soup = BeautifulSoup(response, 'lxml')\n",
    "items = soup.find('body').find_all('li')"
   ]
  },
  {
   "cell_type": "code",
   "execution_count": 2,
   "metadata": {
    "collapsed": false
   },
   "outputs": [],
   "source": [
    "shows = []\n",
    "items = soup.find('body').find_all('li')\n",
    "for i in items:\n",
    "    show = {}\n",
    "    show['title'] = i.find('a').text.strip()\n",
    "    show['url'] = 'https://www.ibdb.com' + i.find('a')['href']\n",
    "    breaks = [x.strip().split(':',1)[-1] for x in i.text.strip().split('\\n')]\n",
    "    if len(breaks) == 5:\n",
    "        show['version']= breaks[0].split('[',1)[-1].split(']',1)[0]\n",
    "        show['category'] = breaks[1].split(', ',1)[-1]\n",
    "        show['opening'] = breaks[2].strip()\n",
    "        show['closing'] = breaks[3].strip()\n",
    "        show['performance_count'] = breaks[4]\n",
    "    elif len(breaks) == 4:\n",
    "        show['version']= breaks[0].split('[',1)[-1].split(']',1)[0]\n",
    "        show['category'] = breaks[1].split(', ',1)[-1]\n",
    "        show['opening'] = breaks[2].strip()\n",
    "        show['closing'] = breaks[3].strip()\n",
    "        show['performance_count'] = None\n",
    "    elif len(breaks) ==3:\n",
    "        show['version']= breaks[0].split('[',1)[-1].split(']',1)[0]\n",
    "        show['category'] = breaks[1].split(', ',1)[-1]\n",
    "        show['opening'] = breaks[2].strip()\n",
    "        show['closing'] = None\n",
    "        show['performance_count'] = None\n",
    "        \n",
    "    shows.append(show)\n",
    "    \n",
    "\n",
    "\n"
   ]
  },
  {
   "cell_type": "code",
   "execution_count": 158,
   "metadata": {
    "collapsed": false
   },
   "outputs": [],
   "source": [
    "df = pd.DataFrame(shows)\n",
    "df_exp = df.dropna()"
   ]
  },
  {
   "cell_type": "code",
   "execution_count": 166,
   "metadata": {
    "collapsed": false
   },
   "outputs": [
    {
     "data": {
      "text/plain": [
       "category             object\n",
       "closing              object\n",
       "opening              object\n",
       "performance_count    object\n",
       "title                object\n",
       "url                  object\n",
       "version              object\n",
       "dtype: object"
      ]
     },
     "execution_count": 166,
     "metadata": {},
     "output_type": "execute_result"
    }
   ],
   "source": [
    "df_exp.dtypes"
   ]
  },
  {
   "cell_type": "code",
   "execution_count": 167,
   "metadata": {
    "collapsed": false
   },
   "outputs": [],
   "source": [
    "df_exp.to_csv('bweda.csv', encoding='utf-8')"
   ]
  },
  {
   "cell_type": "markdown",
   "metadata": {
    "collapsed": true
   },
   "source": [
    "### Continue to scrape with going show by show to get more information on the show"
   ]
  },
  {
   "cell_type": "code",
   "execution_count": null,
   "metadata": {
    "collapsed": true
   },
   "outputs": [],
   "source": []
  }
 ],
 "metadata": {
  "kernelspec": {
   "display_name": "Python 2",
   "language": "python",
   "name": "python2"
  },
  "language_info": {
   "codemirror_mode": {
    "name": "ipython",
    "version": 2
   },
   "file_extension": ".py",
   "mimetype": "text/x-python",
   "name": "python",
   "nbconvert_exporter": "python",
   "pygments_lexer": "ipython2",
   "version": "2.7.13"
  }
 },
 "nbformat": 4,
 "nbformat_minor": 2
}
